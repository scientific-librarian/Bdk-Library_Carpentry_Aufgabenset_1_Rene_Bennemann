{
 "cells": [
  {
   "cell_type": "code",
   "execution_count": 3,
   "metadata": {},
   "outputs": [],
   "source": [
    "import urllib.request\n",
    "import json"
   ]
  },
  {
   "cell_type": "code",
   "execution_count": 38,
   "metadata": {
    "scrolled": true
   },
   "outputs": [
    {
     "name": "stdout",
     "output_type": "stream",
     "text": [
      "31452104\n",
      "Titel: Molegro Virtual Docker for Docking.\n",
      "Erscheinungsdatum: 2019\n",
      "\n",
      "31437182\n",
      "Titel: TreeCluster: Clustering biological sequences using phylogenetic trees.\n",
      "Erscheinungsdatum: 2019\n",
      "\n",
      "31455877\n",
      "Titel: Principles of open source bioinstrumentation applied to the poseidon syringe pump system.\n",
      "Erscheinungsdatum: 2019 Aug 27\n",
      "\n",
      "31535994\n",
      "Titel: Aggregation Signature for Small Object Tracking.\n",
      "Erscheinungsdatum: 2019 Sep 16\n",
      "\n"
     ]
    }
   ],
   "source": [
    "base_url = \"https://eutils.ncbi.nlm.nih.gov/entrez/eutils/esummary.fcgi?db=pubmed&retmode=json&id=\"\n",
    "pmids = [\"31452104\",\n",
    "        \"31437182\",\n",
    "        \"31455877\",\n",
    "        \"31535994\"]\n",
    "\n",
    "for pmid in pmids:\n",
    "    full_url = base_url + pmid\n",
    "    pmid_json_data = urllib.request.urlopen(full_url).read()\n",
    "    pmid_data = json.loads(pmid_json_data)\n",
    "    print(pmid)\n",
    "    print(\"Titel: \" + pmid_data [\"result\"] [str(pmid)][\"title\"])\n",
    "    print(\"Erscheinungsdatum: \" + pmid_data [\"result\"] [str(pmid)][\"pubdate\"])\n",
    "    print()"
   ]
  },
  {
   "cell_type": "code",
   "execution_count": null,
   "metadata": {},
   "outputs": [],
   "source": []
  }
 ],
 "metadata": {
  "kernelspec": {
   "display_name": "Python 3",
   "language": "python",
   "name": "python3"
  },
  "language_info": {
   "codemirror_mode": {
    "name": "ipython",
    "version": 3
   },
   "file_extension": ".py",
   "mimetype": "text/x-python",
   "name": "python",
   "nbconvert_exporter": "python",
   "pygments_lexer": "ipython3",
   "version": "3.7.3"
  }
 },
 "nbformat": 4,
 "nbformat_minor": 2
}
