{
 "cells": [
  {
   "cell_type": "code",
   "execution_count": 1,
   "metadata": {},
   "outputs": [],
   "source": [
    "import urllib.request\n",
    "import json"
   ]
  },
  {
   "cell_type": "code",
   "execution_count": 55,
   "metadata": {},
   "outputs": [
    {
     "name": "stdout",
     "output_type": "stream",
     "text": [
      "31452104\n"
     ]
    },
    {
     "ename": "KeyError",
     "evalue": "'title'",
     "output_type": "error",
     "traceback": [
      "\u001b[1;31m---------------------------------------------------------------------------\u001b[0m",
      "\u001b[1;31mKeyError\u001b[0m                                  Traceback (most recent call last)",
      "\u001b[1;32m<ipython-input-55-c5738c0cc01c>\u001b[0m in \u001b[0;36m<module>\u001b[1;34m\u001b[0m\n\u001b[0;32m     10\u001b[0m     \u001b[0mpmid_data\u001b[0m \u001b[1;33m=\u001b[0m \u001b[0mjson\u001b[0m\u001b[1;33m.\u001b[0m\u001b[0mloads\u001b[0m\u001b[1;33m(\u001b[0m\u001b[0mpmid_json_data\u001b[0m\u001b[1;33m)\u001b[0m\u001b[1;33m\u001b[0m\u001b[1;33m\u001b[0m\u001b[0m\n\u001b[0;32m     11\u001b[0m     \u001b[0mprint\u001b[0m\u001b[1;33m(\u001b[0m\u001b[0mpmid\u001b[0m\u001b[1;33m)\u001b[0m\u001b[1;33m\u001b[0m\u001b[1;33m\u001b[0m\u001b[0m\n\u001b[1;32m---> 12\u001b[1;33m     \u001b[0mprint\u001b[0m\u001b[1;33m(\u001b[0m\u001b[0mpmid_data\u001b[0m\u001b[1;33m[\u001b[0m\u001b[1;34m\"title\"\u001b[0m\u001b[1;33m]\u001b[0m\u001b[1;33m[\u001b[0m\u001b[1;36m0\u001b[0m\u001b[1;33m]\u001b[0m\u001b[1;33m)\u001b[0m\u001b[1;33m\u001b[0m\u001b[1;33m\u001b[0m\u001b[0m\n\u001b[0m\u001b[0;32m     13\u001b[0m     \u001b[0mprint\u001b[0m\u001b[1;33m(\u001b[0m\u001b[0mpmid_data\u001b[0m\u001b[1;33m[\u001b[0m\u001b[1;34m\"pubdate\"\u001b[0m\u001b[1;33m]\u001b[0m\u001b[1;33m[\u001b[0m\u001b[1;36m0\u001b[0m\u001b[1;33m]\u001b[0m\u001b[1;33m)\u001b[0m\u001b[1;33m\u001b[0m\u001b[1;33m\u001b[0m\u001b[0m\n\u001b[0;32m     14\u001b[0m     \u001b[0mprint\u001b[0m\u001b[1;33m(\u001b[0m\u001b[1;33m)\u001b[0m\u001b[1;33m\u001b[0m\u001b[1;33m\u001b[0m\u001b[0m\n",
      "\u001b[1;31mKeyError\u001b[0m: 'title'"
     ]
    }
   ],
   "source": [
    "base_url = \"https://eutils.ncbi.nlm.nih.gov/entrez/eutils/esummary.fcgi?db=pubmed&retmode=json&id=\"\n",
    "pmids = [\"31452104\",\n",
    "         \"31437182\",\n",
    "         \"31455877\",\n",
    "         \"31535994\"]\n",
    "\n",
    "for pmid in pmids:\n",
    "    full_url = base_url + pmid\n",
    "    pmid_json_data = urllib.request.urlopen(full_url).read()\n",
    "    pmid_data = json.loads(pmid_json_data)\n",
    "    print(pmid)\n",
    "    print(pmid_data[\"title\"][0])\n",
    "    print(pmid_data[\"pubdate\"][0])\n",
    "    print()"
   ]
  },
  {
   "cell_type": "code",
   "execution_count": 10,
   "metadata": {
    "scrolled": false
   },
   "outputs": [],
   "source": []
  },
  {
   "cell_type": "code",
   "execution_count": 11,
   "metadata": {},
   "outputs": [
    {
     "name": "stdout",
     "output_type": "stream",
     "text": [
      "https://eutils.ncbi.nlm.nih.gov/entrez/eutils/esummary.fcgi?db=pubmed&retmode=json&id=31452104\n"
     ]
    }
   ],
   "source": []
  },
  {
   "cell_type": "code",
   "execution_count": 13,
   "metadata": {},
   "outputs": [],
   "source": []
  },
  {
   "cell_type": "code",
   "execution_count": 14,
   "metadata": {},
   "outputs": [
    {
     "name": "stdout",
     "output_type": "stream",
     "text": [
      "b'{\\n    \"header\": {\\n        \"type\": \"esummary\",\\n        \"version\": \"0.3\"\\n    },\\n    \"result\": {\\n        \"uids\": [\\n            \"31452104\"\\n        ],\\n        \"31452104\": {\\n            \"uid\": \"31452104\",\\n            \"pubdate\": \"2019\",\\n            \"epubdate\": \"\",\\n            \"source\": \"Methods Mol Biol\",\\n            \"authors\": [\\n                {\\n                    \"name\": \"Bitencourt-Ferreira G\",\\n                    \"authtype\": \"Author\",\\n                    \"clusterid\": \"\"\\n                },\\n                {\\n                    \"name\": \"de Azevedo WF Jr\",\\n                    \"authtype\": \"Author\",\\n                    \"clusterid\": \"\"\\n                }\\n            ],\\n            \"lastauthor\": \"de Azevedo WF Jr\",\\n            \"title\": \"Molegro Virtual Docker for Docking.\",\\n            \"sorttitle\": \"molegro virtual docker for docking\",\\n            \"volume\": \"2053\",\\n            \"issue\": \"\",\\n            \"pages\": \"149-167\",\\n            \"lang\": [\\n                \"eng\"\\n            ],\\n            \"nlmuniqueid\": \"9214969\",\\n            \"issn\": \"1064-3745\",\\n            \"essn\": \"1940-6029\",\\n            \"pubtype\": [\\n                \"Journal Article\"\\n            ],\\n            \"recordstatus\": \"PubMed - in process\",\\n            \"pubstatus\": \"4\",\\n            \"articleids\": [\\n                {\\n                    \"idtype\": \"pubmed\",\\n                    \"idtypen\": 1,\\n                    \"value\": \"31452104\"\\n                },\\n                {\\n                    \"idtype\": \"doi\",\\n                    \"idtypen\": 3,\\n                    \"value\": \"10.1007/978-1-4939-9752-7_10\"\\n                },\\n                {\\n                    \"idtype\": \"rid\",\\n                    \"idtypen\": 8,\\n                    \"value\": \"31452104\"\\n                },\\n                {\\n                    \"idtype\": \"eid\",\\n                    \"idtypen\": 8,\\n                    \"value\": \"31452104\"\\n                }\\n            ],\\n            \"history\": [\\n                {\\n                    \"pubstatus\": \"entrez\",\\n                    \"date\": \"2019/08/28 06:00\"\\n                },\\n                {\\n                    \"pubstatus\": \"pubmed\",\\n                    \"date\": \"2019/08/28 06:00\"\\n                },\\n                {\\n                    \"pubstatus\": \"medline\",\\n                    \"date\": \"2019/08/28 06:00\"\\n                }\\n            ],\\n            \"references\": [\\n            ],\\n            \"attributes\": [\\n                \"Has Abstract\"\\n            ],\\n            \"pmcrefcount\": \"\",\\n            \"fulljournalname\": \"Methods in molecular biology (Clifton, N.J.)\",\\n            \"elocationid\": \"doi: 10.1007/978-1-4939-9752-7_10\",\\n            \"doctype\": \"citation\",\\n            \"srccontriblist\": [\\n            ],\\n            \"booktitle\": \"\",\\n            \"medium\": \"\",\\n            \"edition\": \"\",\\n            \"publisherlocation\": \"\",\\n            \"publishername\": \"\",\\n            \"srcdate\": \"\",\\n            \"reportnumber\": \"\",\\n            \"availablefromurl\": \"\",\\n            \"locationlabel\": \"\",\\n            \"doccontriblist\": [\\n            ],\\n            \"docdate\": \"\",\\n            \"bookname\": \"\",\\n            \"chapter\": \"\",\\n            \"sortpubdate\": \"2019/01/01 00:00\",\\n            \"sortfirstauthor\": \"Bitencourt-Ferreira G\",\\n            \"vernaculartitle\": \"\"\\n        }\\n    }\\n}\\n\\n'\n"
     ]
    }
   ],
   "source": []
  },
  {
   "cell_type": "code",
   "execution_count": null,
   "metadata": {},
   "outputs": [],
   "source": []
  }
 ],
 "metadata": {
  "kernelspec": {
   "display_name": "Python 3",
   "language": "python",
   "name": "python3"
  },
  "language_info": {
   "codemirror_mode": {
    "name": "ipython",
    "version": 3
   },
   "file_extension": ".py",
   "mimetype": "text/x-python",
   "name": "python",
   "nbconvert_exporter": "python",
   "pygments_lexer": "ipython3",
   "version": "3.7.3"
  }
 },
 "nbformat": 4,
 "nbformat_minor": 2
}
